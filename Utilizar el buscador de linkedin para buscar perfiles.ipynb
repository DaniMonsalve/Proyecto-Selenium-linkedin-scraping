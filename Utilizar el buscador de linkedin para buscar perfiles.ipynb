{
 "cells": [
  {
   "cell_type": "code",
   "execution_count": 111,
   "metadata": {},
   "outputs": [],
   "source": [
    "\n",
    "from datetime import datetime\n",
    "import chromedriver_autoinstaller\n",
    "\n",
    "from selenium import webdriver\n",
    "from selenium.webdriver.common.keys import Keys\n",
    "from selenium.webdriver.common.desired_capabilities import DesiredCapabilities\n",
    "from selenium.webdriver.chrome.options import Options\n",
    "from selenium.webdriver.support.ui import WebDriverWait\n",
    "from selenium.webdriver.support import expected_conditions as EC\n",
    "from selenium.webdriver.common.by import By\n",
    "from selenium.common.exceptions import NoSuchElementException\n",
    "from selenium.common.exceptions import TimeoutException\n",
    "from selenium.common.exceptions import UnexpectedAlertPresentException\n",
    "from selenium.common.exceptions import WebDriverException\n",
    "from selenium.common.exceptions import StaleElementReferenceException\n",
    "\n",
    "\n",
    "\n",
    "\n",
    "import os\n",
    "#os.system(\"pause\")\n",
    "import sys\n",
    "import random\n",
    "import csv\n",
    "import time\n",
    "import re\n",
    "from bs4 import BeautifulSoup as bs"
   ]
  },
  {
   "cell_type": "code",
   "execution_count": 112,
   "metadata": {},
   "outputs": [],
   "source": [
    "#driver= webdriver.Chrome(r\"C:\\Users\\danie\\anaconda3\\Lib\\site-packages\\chromedriver\")\n",
    "import chromedriver_autoinstaller\n",
    "chromedriver_autoinstaller.install()\n",
    "driver = webdriver.Chrome()\n",
    "\n",
    "driver.get(\"https://www.google.com/\")"
   ]
  },
  {
   "cell_type": "code",
   "execution_count": 113,
   "metadata": {},
   "outputs": [],
   "source": [
    "url=\"https://www.linkedin.com/home\""
   ]
  },
  {
   "cell_type": "code",
   "execution_count": 114,
   "metadata": {},
   "outputs": [],
   "source": [
    "driver.get(url)\n",
    "time.sleep(3)"
   ]
  },
  {
   "cell_type": "code",
   "execution_count": 115,
   "metadata": {},
   "outputs": [],
   "source": [
    "#login\n",
    "email=driver.find_element(\"xpath\", \"//input[@name='session_key']\")\n",
    "password=driver.find_element(\"xpath\", \"//input[@name='session_password']\")"
   ]
  },
  {
   "cell_type": "code",
   "execution_count": 116,
   "metadata": {},
   "outputs": [],
   "source": [
    "#leer email y password de un fichero externo\n",
    "with open(r\"email.txt\") as myUser:\n",
    "    username=myUser.read().replace('\\n','')\n",
    "email.send_keys(username)\n",
    "\n",
    "with open(r\"password.txt\") as myPass:\n",
    "    passcode=myPass.read().replace('\\n','')\n",
    "password.send_keys(passcode)\n",
    "time.sleep(3)"
   ]
  },
  {
   "cell_type": "code",
   "execution_count": 117,
   "metadata": {},
   "outputs": [],
   "source": [
    "submit=driver.find_element(\"xpath\", \"//button[@type='submit']\").click()\n",
    "time.sleep(2)"
   ]
  },
  {
   "cell_type": "code",
   "execution_count": 118,
   "metadata": {},
   "outputs": [],
   "source": [
    "search_item='data analyst'"
   ]
  },
  {
   "cell_type": "code",
   "execution_count": 119,
   "metadata": {},
   "outputs": [],
   "source": [
    "buscar=driver.find_element(\"xpath\", \"//input[@type='text']\")\n",
    "buscar.send_keys(search_item)\n",
    "buscar.send_keys(Keys.RETURN)"
   ]
  },
  {
   "cell_type": "code",
   "execution_count": 120,
   "metadata": {},
   "outputs": [],
   "source": [
    "\n",
    "Personas = WebDriverWait(driver, 20).until(EC.element_to_be_clickable((By.XPATH, \"//button[normalize-space()='Personas']\")))\n",
    "Personas.click()\n",
    "\n"
   ]
  },
  {
   "cell_type": "code",
   "execution_count": 121,
   "metadata": {},
   "outputs": [
    {
     "name": "stdout",
     "output_type": "stream",
     "text": [
      "No div.next-text\n"
     ]
    }
   ],
   "source": [
    "# scroll down para cargar toda la página\n",
    "\n",
    "wait = WebDriverWait(driver, 20)\n",
    "\n",
    "scheight = .1\n",
    "while scheight < 1.0:\n",
    "    driver.execute_script(\"window.scrollTo(0, document.body.scrollHeight*%s);\" % scheight)\n",
    "    scheight += .1\n",
    "    time.sleep(0.1)\n",
    "#wait.until(EC.element_to_be_clickable((By.CSS_SELECTOR, 'div.next-text')))\n",
    "try:\n",
    "    print(driver.find_element(\"xpath\",'div.next-text').text)\n",
    "except(NoSuchElementException):\n",
    "    print('No div.next-text')\n",
    "finally:\n",
    "    pass"
   ]
  },
  {
   "cell_type": "code",
   "execution_count": null,
   "metadata": {},
   "outputs": [],
   "source": [
    "# Futuros pasos:\n",
    "'''\n",
    "1. realizar el scraping de los perfiles\n",
    "2. realizar el scroll down para las siguenes páginas\n",
    "'''"
   ]
  }
 ],
 "metadata": {
  "kernelspec": {
   "display_name": "Python 3.9.7 ('base')",
   "language": "python",
   "name": "python3"
  },
  "language_info": {
   "codemirror_mode": {
    "name": "ipython",
    "version": 3
   },
   "file_extension": ".py",
   "mimetype": "text/x-python",
   "name": "python",
   "nbconvert_exporter": "python",
   "pygments_lexer": "ipython3",
   "version": "3.9.7"
  },
  "orig_nbformat": 4,
  "vscode": {
   "interpreter": {
    "hash": "4d9defa72c2715dab9f7f172572cd30a1ab1a2083462d32ef96aadb7c6e0c73b"
   }
  }
 },
 "nbformat": 4,
 "nbformat_minor": 2
}
